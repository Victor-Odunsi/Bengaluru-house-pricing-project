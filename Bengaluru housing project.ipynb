{
 "cells": [
  {
   "cell_type": "code",
   "execution_count": null,
   "id": "419d3954-68e4-4298-8021-40c6c56cd86c",
   "metadata": {},
   "outputs": [],
   "source": [
    "import pandas as pd\n",
    "import numpy as np\n",
    "import matplotlib.pyplot as plt\n",
    "import seaborn as sns\n",
    "from sklearn.preprocessing import OneHotEncoder\n",
    "from sklearn.model_selection import GridSearchCV\n",
    "from sklearn.linear_model import LinearRegression\n",
    "from sklearn.linear_model import Ridge\n",
    "from sklearn.linear_model import Lasso\n",
    "from sklearn.model_selection import train_test_split\n",
    "from sklearn.metrics import accuracy_score"
   ]
  },
  {
   "cell_type": "code",
   "execution_count": null,
   "id": "bb606734-e05d-4ba5-a340-ce6fa4dc98d1",
   "metadata": {},
   "outputs": [],
   "source": [
    "df = pd.read_csv(r\"C:\\Users\\PC\\Desktop\\Bengaluru_House_Data.csv\")\n",
    "df.head()"
   ]
  },
  {
   "cell_type": "code",
   "execution_count": null,
   "id": "db3c145e-aeb0-4e1c-9aad-aa013161ad65",
   "metadata": {},
   "outputs": [],
   "source": [
    "df.drop(columns = ['availability', 'society', 'balcony'], inplace = True)\n",
    "df.head()"
   ]
  },
  {
   "cell_type": "code",
   "execution_count": null,
   "id": "7872d69d-65c7-431b-9ba2-1e976aab0bf9",
   "metadata": {},
   "outputs": [],
   "source": [
    "df['size'].unique()"
   ]
  },
  {
   "cell_type": "code",
   "execution_count": null,
   "id": "fed7f4e1-7680-404b-82ac-878c01a3f9f7",
   "metadata": {},
   "outputs": [],
   "source": [
    "df['bedroom'] = df['size'].str.split(' ', expand = True)[0]"
   ]
  },
  {
   "cell_type": "code",
   "execution_count": null,
   "id": "d81e52b9-23eb-45c0-8f74-081ec2533c62",
   "metadata": {},
   "outputs": [],
   "source": [
    "df.dropna(inplace = True)"
   ]
  },
  {
   "cell_type": "code",
   "execution_count": null,
   "id": "d7f385d7-5749-49d5-ad21-03a12bf56868",
   "metadata": {},
   "outputs": [],
   "source": [
    "df['bedroom'] = df['bedroom'].astype(int)"
   ]
  },
  {
   "cell_type": "code",
   "execution_count": null,
   "id": "419957ca-960e-4497-8539-ae9ad5ca57bf",
   "metadata": {},
   "outputs": [],
   "source": [
    "df.info()"
   ]
  },
  {
   "cell_type": "code",
   "execution_count": null,
   "id": "56b892e6-d706-48bb-9558-6302026bab0b",
   "metadata": {},
   "outputs": [],
   "source": [
    "df.drop('size', axis = 'columns', inplace = True)"
   ]
  },
  {
   "cell_type": "code",
   "execution_count": null,
   "id": "9a857ced-a490-453e-bca0-e68654564e17",
   "metadata": {},
   "outputs": [],
   "source": [
    "df[df['bedroom'] > 15]"
   ]
  },
  {
   "cell_type": "code",
   "execution_count": null,
   "id": "fc122e6b-bab1-4056-8257-522c2dba6f2e",
   "metadata": {},
   "outputs": [],
   "source": [
    "def normalize(x):\n",
    "    char = x.split('-')\n",
    "    if len(char) == 2:\n",
    "        return (float(char[0]) + float(char[1]))/2\n",
    "    try:\n",
    "        return float(x)\n",
    "    except:\n",
    "        return None"
   ]
  },
  {
   "cell_type": "code",
   "execution_count": null,
   "id": "a08722cb-9481-4466-8e05-d5627ccd6336",
   "metadata": {},
   "outputs": [],
   "source": [
    "df['total_sqft'] = df['total_sqft'].apply(normalize)"
   ]
  },
  {
   "cell_type": "code",
   "execution_count": null,
   "id": "9b50f919-97e5-47ae-849c-e3b6e1c83e73",
   "metadata": {},
   "outputs": [],
   "source": [
    "df.dropna(inplace = True)"
   ]
  },
  {
   "cell_type": "code",
   "execution_count": null,
   "id": "c34186c0-248c-48f7-bd0f-76fa4ad98de0",
   "metadata": {},
   "outputs": [],
   "source": [
    "df1 = df.copy()\n",
    "df1.head()\n",
    "df.info()"
   ]
  },
  {
   "cell_type": "code",
   "execution_count": null,
   "id": "c5095fc9-d1eb-453c-b8af-00096e8f7a7f",
   "metadata": {},
   "outputs": [],
   "source": [
    "loc_list = df1.groupby('location')['location'].count().sort_values(ascending = False)\n",
    "loc_less_than_11 = loc_list[loc_list <= 10]\n",
    "loc_list"
   ]
  },
  {
   "cell_type": "code",
   "execution_count": null,
   "id": "6b7497d4-f446-459e-8efe-42a795fd67d5",
   "metadata": {},
   "outputs": [],
   "source": [
    "df1['location'] = df1['location'].apply(lambda x: 'others' if x in loc_less_than_11 else x)\n",
    "df1['location'].value_counts()"
   ]
  },
  {
   "cell_type": "code",
   "execution_count": null,
   "id": "f967850b-e7c5-4615-b31b-6a7da9386e3f",
   "metadata": {},
   "outputs": [],
   "source": [
    "df1['price_per_sqft'] = (df['price']*100000/df['total_sqft']).round()\n",
    "df2 = df1[~((df1['total_sqft']/df1['bedroom']) < 300)]\n",
    "df2.shape"
   ]
  },
  {
   "cell_type": "code",
   "execution_count": null,
   "id": "d00874c0-57aa-4bdc-a00d-1a6468415726",
   "metadata": {},
   "outputs": [],
   "source": [
    "df2['price_per_sqft'].describe()"
   ]
  },
  {
   "cell_type": "code",
   "execution_count": null,
   "id": "477801ad-4bcc-4626-a21d-b37573550f9c",
   "metadata": {},
   "outputs": [],
   "source": [
    "from pprint import pprint"
   ]
  },
  {
   "cell_type": "code",
   "execution_count": null,
   "id": "e1668ac5-e97d-4419-891d-3f56109acf2b",
   "metadata": {},
   "outputs": [],
   "source": [
    "def remove_outliers(df):\n",
    "    final_df = pd.DataFrame()\n",
    "    for key, subdf in df.groupby('location'):\n",
    "\n",
    "        mean = subdf['price_per_sqft'].mean()\n",
    "        std = subdf['price_per_sqft'].std()\n",
    "\n",
    "        reduced_subdf = subdf[(subdf['price_per_sqft'] >= mean - std) & (subdf['price_per_sqft'] <= mean + std)]\n",
    "        final_df = pd.concat([final_df, reduced_subdf], ignore_index = True)\n",
    "        \n",
    "    return final_df"
   ]
  },
  {
   "cell_type": "code",
   "execution_count": null,
   "id": "784146a8-8321-4da4-be16-9ba68f87c9ff",
   "metadata": {},
   "outputs": [],
   "source": [
    "df2 = remove_outliers(df1)\n",
    "df2.shape"
   ]
  },
  {
   "cell_type": "code",
   "execution_count": null,
   "id": "39ffd63a-edb5-4fe3-a5ab-462ed117bad0",
   "metadata": {},
   "outputs": [],
   "source": [
    "df2.head()"
   ]
  },
  {
   "cell_type": "code",
   "execution_count": null,
   "id": "a341ccdc-2b20-49ea-a451-ffa88a511cbb",
   "metadata": {},
   "outputs": [],
   "source": [
    "def remove_bedroom_outliers(df):\n",
    "    outliers_indices = []\n",
    "    for location, location_df in df.groupby('location'):\n",
    "        stats = location_df.groupby('bedroom')['price_per_sqft'].agg(['mean', 'std', 'count'])\n",
    "    \n",
    "        for bedroom, bedroom_df in location_df.groupby('bedroom'):\n",
    "            if bedroom-1 in stats.index and stats.loc[bedroom - 1, 'count']>5:\n",
    "                outliers = bedroom_df[bedroom_df['price_per_sqft'] > stats.loc[bedroom-1, 'mean']]\n",
    "                outliers_indices.extend(outliers.index.to_list())\n",
    "                \n",
    "    return df.drop(outliers_indices)"
   ]
  },
  {
   "cell_type": "code",
   "execution_count": null,
   "id": "1f76aa40-1a3f-4b36-b9c7-946d70b9abfd",
   "metadata": {},
   "outputs": [],
   "source": [
    "df3 = remove_bedroom_outliers(df2)\n",
    "df3.drop(columns = ['price_per_sqft', 'area_type'], inplace = True)\n",
    "df3.shape"
   ]
  },
  {
   "cell_type": "code",
   "execution_count": null,
   "id": "be2fb7a5-2d48-46ad-8c69-b3d580c8cd51",
   "metadata": {},
   "outputs": [],
   "source": [
    "df3.info()"
   ]
  },
  {
   "cell_type": "markdown",
   "id": "58450993-7306-458a-8222-97128de351a0",
   "metadata": {},
   "source": [
    "## df4 -- OneHotEncoding"
   ]
  },
  {
   "cell_type": "code",
   "execution_count": null,
   "id": "c64a1380-fb6c-4143-a134-3d92623ac6dc",
   "metadata": {},
   "outputs": [],
   "source": [
    "ohe = OneHotEncoder(sparse_output = False, drop = 'first')\n",
    "encoded_features = ohe.fit_transform(df3[['location']])\n",
    "encoded_features_df = pd.DataFrame(encoded_features, columns = ohe.get_feature_names_out(['location']), index = df3.index)\n",
    "encoded_features_df.head()"
   ]
  },
  {
   "cell_type": "code",
   "execution_count": null,
   "id": "9da3bdd3-5114-43fa-aa8f-45584860a6fb",
   "metadata": {},
   "outputs": [],
   "source": [
    "df4 = pd.concat([encoded_features_df, df3.drop(columns = ['location'], axis = 'columns')], axis = 'columns')\n",
    "df4.head()"
   ]
  },
  {
   "cell_type": "code",
   "execution_count": null,
   "id": "1834fd8d-c6f1-4977-b3f6-715a712edaec",
   "metadata": {},
   "outputs": [],
   "source": [
    "X = df4.drop(columns = ['price'], axis = 'columns')\n",
    "y = df4['price']"
   ]
  },
  {
   "cell_type": "code",
   "execution_count": null,
   "id": "471f4db5-c655-4c4e-81ed-fc7689349941",
   "metadata": {},
   "outputs": [],
   "source": [
    "X_train, X_test, y_train, y_test = train_test_split(X, y, test_size = 0.2, random_state = 1)\n",
    "X_test.shape"
   ]
  },
  {
   "cell_type": "code",
   "execution_count": null,
   "id": "daf17b3b-e24b-46ba-96ba-9ee57b92be5c",
   "metadata": {},
   "outputs": [],
   "source": [
    "algorithms = {\n",
    "    'linear_regression': {\n",
    "        'model': LinearRegression(),\n",
    "        'params': {\n",
    "            'alpha': [1, 2],\n",
    "            'selection': ['random','cyclic']\n",
    "        }\n",
    "    },\n",
    "    'ridge': {\n",
    "        'model': Ridge(),\n",
    "        'params': {\n",
    "            'alpha':[1, 2],\n",
    "            'solver': ['auto', 'sag', 'cholesky']\n",
    "        }\n",
    "    }\n",
    "}\n",
    "\n",
    "scores = []\n",
    "for name, model in algorithms.items():\n",
    "    clf = GridSearchCV(\n",
    "        model['model'],\n",
    "        param_grid = model['params'],\n",
    "        cv = 5,\n",
    "        n_jobs = -1\n",
    "    )\n",
    "    clf.fit(X_train, y_train)\n",
    "    scores.append(\n",
    "        {\n",
    "            'model': name,\n",
    "            'best_score': clf.best_score_,\n",
    "            'best_params': clf.best_params_\n",
    "        }\n",
    "    )\n",
    "pd.DataFrame(scores, columns = ['model', 'best_score', 'best_params'])"
   ]
  },
  {
   "cell_type": "code",
   "execution_count": null,
   "id": "53c02c18-86bc-4d5a-8c64-6c777c9e1cc8",
   "metadata": {},
   "outputs": [],
   "source": [
    "reg = LinearRegression()\n",
    "reg.fit(X_train, y_train)\n",
    "reg.score(X_test, y_test)"
   ]
  },
  {
   "cell_type": "code",
   "execution_count": null,
   "id": "94c5cb40-a67c-4ff5-a9e0-cda595d59225",
   "metadata": {},
   "outputs": [],
   "source": [
    "def predict_price(location, sqft, bath, bedroom):\n",
    "    input_data = pd.DataFrame(columns = X.columns)\n",
    "    \n",
    "    if not location.startswith('location_'):\n",
    "        location = f'location_{location}'\n",
    "    \n",
    "    input_data.loc[0] = 0\n",
    "    \n",
    "    input_data['total_sqft'] = sqft\n",
    "    input_data['bath'] = bath\n",
    "    input_data['bedroom'] = bedroom\n",
    "    \n",
    "    if location in input_data.columns:\n",
    "        input_data[location] = 1\n",
    "    else:\n",
    "        print(f'Warning. location {location} not in training data. Defaulting to 0')\n",
    "    \n",
    "    return reg.predict(input_data)[0]"
   ]
  },
  {
   "cell_type": "code",
   "execution_count": null,
   "id": "b685847e-4bb7-4042-8396-0e9e8094569c",
   "metadata": {},
   "outputs": [],
   "source": [
    "predict_price('1st Phase JP Nagar', 1000, 2, 2)"
   ]
  },
  {
   "cell_type": "code",
   "execution_count": null,
   "id": "982e7b0a-ed82-490c-8e44-fca39aac13bf",
   "metadata": {},
   "outputs": [],
   "source": [
    "predict_price('Indira Nagar', 1000, 2, 2)"
   ]
  },
  {
   "cell_type": "code",
   "execution_count": null,
   "id": "d3c7d9d5-8224-4637-9e1c-89f0a49e525b",
   "metadata": {},
   "outputs": [],
   "source": []
  },
  {
   "cell_type": "code",
   "execution_count": null,
   "id": "4eb6ddb8-9016-46ea-97bf-43aae0da08db",
   "metadata": {},
   "outputs": [],
   "source": [
    "from ml_model import PriceModel\n",
    "model_instance = PriceModel()\n",
    "print(dir(model_instance.model))"
   ]
  },
  {
   "cell_type": "code",
   "execution_count": null,
   "id": "25d506db-a4de-48a0-b862-00c6467926db",
   "metadata": {},
   "outputs": [],
   "source": [
    "from backend.app.config import settings\n",
    "settings.locations()"
   ]
  },
  {
   "cell_type": "code",
   "execution_count": 51,
   "id": "4d6c70ac-03db-4ed7-80f4-c64ff5e13446",
   "metadata": {},
   "outputs": [],
   "source": [
    "import json\n",
    "columns = {\n",
    "    'columns_names': [col for col in X.columns]\n",
    "}\n",
    "\n",
    "with open('columns.json', 'w') as f:\n",
    "    f.write(json.dumps(columns))"
   ]
  },
  {
   "cell_type": "code",
   "execution_count": 1,
   "id": "f84cd255-4d6b-4394-bfe0-1c3e4e8e39b4",
   "metadata": {},
   "outputs": [],
   "source": [
    "features = {\n",
    "    'location': 'Indira Nagar',\n",
    "    'total_sqft': 1000,\n",
    "    'bath': 2,\n",
    "    'bedroom': 2\n",
    "}"
   ]
  },
  {
   "cell_type": "code",
   "execution_count": 2,
   "id": "f3fc36a2-d461-4cc3-ae1a-c7ec7183a47b",
   "metadata": {},
   "outputs": [
    {
     "data": {
      "text/plain": [
       "140.52111809706216"
      ]
     },
     "execution_count": 2,
     "metadata": {},
     "output_type": "execute_result"
    }
   ],
   "source": [
    "from backend.app.ml_model import PriceModel\n",
    "\n",
    "model = PriceModel()\n",
    "\n",
    "model.predict(features)"
   ]
  },
  {
   "cell_type": "code",
   "execution_count": 1,
   "id": "0b8fc212-219e-474b-a114-f20b7b7cc99b",
   "metadata": {},
   "outputs": [
    {
     "data": {
      "text/plain": [
       "['location_1st Block Jayanagar',\n",
       " 'location_1st Phase JP Nagar',\n",
       " 'location_2nd Phase Judicial Layout',\n",
       " 'location_2nd Stage Nagarbhavi',\n",
       " 'location_5th Block Hbr Layout']"
      ]
     },
     "execution_count": 1,
     "metadata": {},
     "output_type": "execute_result"
    }
   ],
   "source": [
    "from backend.app.config import settings\n",
    "settings.columns()[:5]"
   ]
  },
  {
   "cell_type": "code",
   "execution_count": null,
   "id": "013a6cf9-5d06-4663-86fb-866efe3a415a",
   "metadata": {},
   "outputs": [],
   "source": []
  },
  {
   "cell_type": "code",
   "execution_count": null,
   "id": "f57df346-f274-48cb-b28a-773ef90ef0ae",
   "metadata": {},
   "outputs": [],
   "source": []
  },
  {
   "cell_type": "code",
   "execution_count": null,
   "id": "c8d6aea7-c907-4ce5-82ff-ecf262980a1e",
   "metadata": {},
   "outputs": [],
   "source": []
  }
 ],
 "metadata": {
  "kernelspec": {
   "display_name": "Python 3 (ipykernel)",
   "language": "python",
   "name": "python3"
  },
  "language_info": {
   "codemirror_mode": {
    "name": "ipython",
    "version": 3
   },
   "file_extension": ".py",
   "mimetype": "text/x-python",
   "name": "python",
   "nbconvert_exporter": "python",
   "pygments_lexer": "ipython3",
   "version": "3.13.5"
  }
 },
 "nbformat": 4,
 "nbformat_minor": 5
}
